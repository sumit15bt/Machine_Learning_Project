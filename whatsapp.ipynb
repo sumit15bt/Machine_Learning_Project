{
 "cells": [
  {
   "cell_type": "code",
   "execution_count": 4,
   "metadata": {},
   "outputs": [
    {
     "name": "stdout",
     "output_type": "stream",
     "text": [
      "Enter name of person/group you want to target:Shiats Jarkab\n"
     ]
    }
   ],
   "source": [
    "#!/usr/bin/python3\n",
    "from selenium import webdriver\n",
    "from selenium.webdriver.support.ui import WebDriverWait\n",
    "from selenium.webdriver.support import expected_conditions as EC\n",
    "from selenium.webdriver.common.keys import Keys\n",
    "from selenium.webdriver.common.by import By\n",
    "import time\n",
    "\n",
    "target = str(input('Enter name of person/group you want to target:'))\n",
    "\n",
    "driver = webdriver.Firefox(\"/usr/local/bin/\")\n",
    " \n",
    "driver.get(\"https://web.whatsapp.com/\")\n",
    "wait = WebDriverWait(driver, 600)\n",
    " \n",
    "x_arg = '//span[contains(@title, '+ '\"' +target + '\"'+ ')]'\n",
    "\n"
   ]
  },
  {
   "cell_type": "code",
   "execution_count": 6,
   "metadata": {},
   "outputs": [],
   "source": [
    "person_title = wait.until(EC.presence_of_element_located((By.XPATH, x_arg)))\n"
   ]
  },
  {
   "cell_type": "code",
   "execution_count": 7,
   "metadata": {},
   "outputs": [],
   "source": [
    "\n",
    "person_title.click()"
   ]
  },
  {
   "cell_type": "code",
   "execution_count": 8,
   "metadata": {},
   "outputs": [],
   "source": [
    "x=-50\n",
    "chat=[]"
   ]
  },
  {
   "cell_type": "code",
   "execution_count": 10,
   "metadata": {},
   "outputs": [],
   "source": [
    "while x > -2000:\n",
    "    element=driver.find_element_by_xpath(\"//div[@class='_9tCEa']\")\n",
    "    driver.execute_script(\"arguments[0].scrollIntoView(500);\",element);\n",
    "    x=x-100\n",
    "    time.sleep(1)"
   ]
  },
  {
   "cell_type": "code",
   "execution_count": 17,
   "metadata": {},
   "outputs": [
    {
     "name": "stdout",
     "output_type": "stream",
     "text": [
      "Number of tweets extracted: 47.\n",
      "\n",
      "Dhakkan New Jio\n",
      "Happy Birthday Sumit Bhai...\n",
      "\n",
      "\n",
      "\n",
      "\n",
      "\n",
      "Thanks buddy\n",
      "Anytime bhaiwa..\n",
      "\n",
      "\n",
      "\n",
      "I’m inviting you to join Tez, a simple and secure payments app by Google. Here’s my code iP5ML - just enter it before your first transaction. Once you’ve sent your first payment, we’ll each get ₹51! https://g.co/tez/iP5ML\n",
      "https://g.co/tez/iP5ML\n",
      "Use PhonePe for instant bank transfers & more! Earn up to ₹1000 on your first money transfer on #PhonePe. Use my link - https://phon.pe/ru_sumif39h5\n",
      "https://phon.pe/ru_sumif39h5\n",
      "https://www.myntra.com/growth/invite/DU8GY6WB?p=mwb&t=1529502968&c=com.whatsapp&l=rd\n",
      "https://www.myntra.com/growth/invite/DU8GY6WB?p=mwb&t=1529502968&c=com.whatsapp&l=rd\n",
      "Hii\n",
      "from selenium import webdriver\n",
      "\n",
      "driver = webdriver.Chrome(r'/usr/bin/chromedriver')\n",
      "driver.get('https://web.whatsapp.com/')\n",
      "\n",
      "name = input('Enter the name of user or group : ')\n",
      "msg = input('Enter your message : ')\n",
      "count = int(input('Enter the count : '))\n",
      "\n",
      "input('Enter anything after scanning QR code')\n",
      "\n",
      "user = driver.find_element_by_xpath('//span[@title = \"{}\"]'.format(name))\n",
      "user.click()\n",
      "\n",
      "msg_box = driver.find_element_by_class_name('_2S1VP')\n",
      "\n",
      "for i in range(count):\n",
      "    msg_box.send_keys(msg)\n",
      "    button = driver.find_element_by_class_name('_2lkdt')\n",
      "button.click()\n",
      "https://web.whatsapp.com/'\n",
      "user.click\n",
      "button.click\n",
      "hellohello\n",
      "hii\n",
      "hello\n",
      "hello\n",
      "hello\n",
      "hello\n",
      "https://www.youtube.com/playlist?list=PL3GaGYDOQMpIBD5oDOs-5dWtt7jlgwiMD\n",
      "https://www.youtube.com/playlist?list=PL3GaGYDOQMpIBD5oDOs-5dWtt7jlgwiMD\n",
      "hello\n",
      "Nope\n",
      "https://stackoverflow.com/questions/20986631/how-can-i-scroll-a-web-page-using-selenium-webdriver-in-python\n",
      "https://stackoverflow.com/questions/20986631/how-can-i-scroll-a-web-page-using-selenium-webdriver-in-python\n",
      "https://m.starmakerstudios.com/share?recording_id=5066549546256897&share_type=whatsapp&app=sm\n",
      "https://m.starmakerstudios.com/share?recording_id=5066549546256897&share_type=whatsapp&app=sm\n",
      "Kta bna h ???\n",
      "Pratha aanchar\n",
      "Isme editing kr k send krna h\n",
      "https://www.youtube.com/playlist?list=PLhpgLgFy42uVqkUa_5P0HZIg0dwbVm96D\n",
      "https://www.youtube.com/playlist?list=PLhpgLgFy42uVqkUa_5P0HZIg0dwbVm96D\n",
      "Mje lga tha tu ye bolegi\n",
      "https://drive.google.com/file/d/10Qq0j7qi2tqtIYVwIKw-uT2bhPfPzC2V/view\n",
      "\n",
      "\n",
      "https://drive.google.com/file/d/10Qq0j7qi2tqtIYVwIKw-uT2bhPfPzC2V/view\n",
      "Ye Galat jagah bheja kya be\n"
     ]
    }
   ],
   "source": [
    "textget=driver.find_elements_by_class_name(\"selectable-text.invisible-space.copyable-text\")\n",
    "print(\"Number of tweets extracted: {}.\\n\".format(len(textget)))\n",
    "\n",
    "for Text in textget:\n",
    "    chat.append(Text.text)\n",
    "    print(Text.text)"
   ]
  },
  {
   "cell_type": "code",
   "execution_count": 3,
   "metadata": {},
   "outputs": [
    {
     "name": "stdout",
     "output_type": "stream",
     "text": [
      "Press q for logout : q\n"
     ]
    },
    {
     "ename": "NameError",
     "evalue": "name 'driver' is not defined",
     "output_type": "error",
     "traceback": [
      "\u001b[0;31m---------------------------------------------------------------------------\u001b[0m",
      "\u001b[0;31mNameError\u001b[0m                                 Traceback (most recent call last)",
      "\u001b[0;32m<ipython-input-3-f498964c1cfb>\u001b[0m in \u001b[0;36m<module>\u001b[0;34m()\u001b[0m\n\u001b[1;32m      2\u001b[0m         \u001b[0mquit\u001b[0m\u001b[0;34m=\u001b[0m\u001b[0minput\u001b[0m\u001b[0;34m(\u001b[0m\u001b[0;34m\"Press q for logout : \"\u001b[0m\u001b[0;34m)\u001b[0m\u001b[0;34m\u001b[0m\u001b[0m\n\u001b[1;32m      3\u001b[0m         \u001b[0;32mif\u001b[0m \u001b[0mquit\u001b[0m \u001b[0;34m==\u001b[0m \u001b[0;34m'q'\u001b[0m\u001b[0;34m:\u001b[0m\u001b[0;34m\u001b[0m\u001b[0m\n\u001b[0;32m----> 4\u001b[0;31m                 \u001b[0mmenu\u001b[0m\u001b[0;34m=\u001b[0m\u001b[0mdriver\u001b[0m\u001b[0;34m.\u001b[0m\u001b[0mfind_elements_by_class_name\u001b[0m\u001b[0;34m(\u001b[0m\u001b[0;34m\"rAUz7\"\u001b[0m\u001b[0;34m)\u001b[0m\u001b[0;34m\u001b[0m\u001b[0m\n\u001b[0m\u001b[1;32m      5\u001b[0m                 \u001b[0mmenu\u001b[0m\u001b[0;34m[\u001b[0m\u001b[0;36m2\u001b[0m\u001b[0;34m]\u001b[0m\u001b[0;34m.\u001b[0m\u001b[0mclick\u001b[0m\u001b[0;34m(\u001b[0m\u001b[0;34m)\u001b[0m\u001b[0;34m\u001b[0m\u001b[0m\n\u001b[1;32m      6\u001b[0m                 \u001b[0mlist\u001b[0m\u001b[0;34m=\u001b[0m\u001b[0mdriver\u001b[0m\u001b[0;34m.\u001b[0m\u001b[0mfind_elements_by_class_name\u001b[0m\u001b[0;34m(\u001b[0m\u001b[0;34m\"_10anr.vidHz._28zBA\"\u001b[0m\u001b[0;34m)\u001b[0m\u001b[0;34m\u001b[0m\u001b[0m\n",
      "\u001b[0;31mNameError\u001b[0m: name 'driver' is not defined"
     ]
    }
   ],
   "source": [
    "while 1 :\n",
    "\tquit=input(\"Press q for logout : \")\n",
    "\tif quit == 'q':\n",
    "\t\tmenu=driver.find_elements_by_class_name(\"rAUz7\")\n",
    "\t\tmenu[2].click()\n",
    "\t\tlist=driver.find_elements_by_class_name(\"_10anr.vidHz._28zBA\")\n",
    "\t\tlist[5].click()\n",
    "\t\tbreak"
   ]
  },
  {
   "cell_type": "code",
   "execution_count": null,
   "metadata": {},
   "outputs": [],
   "source": [
    "\n",
    "\n",
    "\n",
    "\n"
   ]
  },
  {
   "cell_type": "code",
   "execution_count": 46,
   "metadata": {},
   "outputs": [
    {
     "name": "stdout",
     "output_type": "stream",
     "text": [
      "['Dhakkan New Jio', 'Happy Birthday Sumit Bhai...', '', '', '', '', '', 'Thanks buddy', 'Anytime bhaiwa..', '', '', '', 'I’m inviting you to join Tez, a simple and secure payments app by Google. Here’s my code iP5ML - just enter it before your first transaction. Once you’ve sent your first payment, we’ll each get ₹51! https://g.co/tez/iP5ML', 'https://g.co/tez/iP5ML', 'Use PhonePe for instant bank transfers & more! Earn up to ₹1000 on your first money transfer on #PhonePe. Use my link - https://phon.pe/ru_sumif39h5', 'https://phon.pe/ru_sumif39h5', 'https://www.myntra.com/growth/invite/DU8GY6WB?p=mwb&t=1529502968&c=com.whatsapp&l=rd', 'https://www.myntra.com/growth/invite/DU8GY6WB?p=mwb&t=1529502968&c=com.whatsapp&l=rd', 'Hii', 'from selenium import webdriver\\n\\ndriver = webdriver.Chrome(r\\'/usr/bin/chromedriver\\')\\ndriver.get(\\'https://web.whatsapp.com/\\')\\n\\nname = input(\\'Enter the name of user or group : \\')\\nmsg = input(\\'Enter your message : \\')\\ncount = int(input(\\'Enter the count : \\'))\\n\\ninput(\\'Enter anything after scanning QR code\\')\\n\\nuser = driver.find_element_by_xpath(\\'//span[@title = \"{}\"]\\'.format(name))\\nuser.click()\\n\\nmsg_box = driver.find_element_by_class_name(\\'_2S1VP\\')\\n\\nfor i in range(count):\\n    msg_box.send_keys(msg)\\n    button = driver.find_element_by_class_name(\\'_2lkdt\\')\\nbutton.click()', \"https://web.whatsapp.com/'\", 'user.click', 'button.click', 'hellohello', 'hii', 'hello', 'hello', 'hello', 'hello', 'https://www.youtube.com/playlist?list=PL3GaGYDOQMpIBD5oDOs-5dWtt7jlgwiMD', 'https://www.youtube.com/playlist?list=PL3GaGYDOQMpIBD5oDOs-5dWtt7jlgwiMD', 'hello', 'Nope', 'https://stackoverflow.com/questions/20986631/how-can-i-scroll-a-web-page-using-selenium-webdriver-in-python', 'https://stackoverflow.com/questions/20986631/how-can-i-scroll-a-web-page-using-selenium-webdriver-in-python', 'https://m.starmakerstudios.com/share?recording_id=5066549546256897&share_type=whatsapp&app=sm', 'https://m.starmakerstudios.com/share?recording_id=5066549546256897&share_type=whatsapp&app=sm', 'Kta bna h ???', 'Pratha aanchar', 'Isme editing kr k send krna h', 'https://www.youtube.com/playlist?list=PLhpgLgFy42uVqkUa_5P0HZIg0dwbVm96D', 'https://www.youtube.com/playlist?list=PLhpgLgFy42uVqkUa_5P0HZIg0dwbVm96D', 'Mje lga tha tu ye bolegi\\nhttps://drive.google.com/file/d/10Qq0j7qi2tqtIYVwIKw-uT2bhPfPzC2V/view', '', '', 'https://drive.google.com/file/d/10Qq0j7qi2tqtIYVwIKw-uT2bhPfPzC2V/view', 'Ye Galat jagah bheja kya be']\n"
     ]
    }
   ],
   "source": [
    "\"\"\"\n",
    "print(\"Number of tweets extracted: {}.\\n\".format(len(tweets)))\n",
    "# We create a pandas dataframe as follows:\n",
    "data = pd.DataFrame(data=[tweet.text for tweet in tweets], columns=['Tweets'])\n",
    "\n",
    "# We display the first 10 elements of the dataframe:\n",
    "display(data.head(10))\n",
    "\"\"\"\n",
    "a=len(chat)\n",
    "b=int(a/2)\n",
    "data=chat[b:a]\n",
    "print(data)\n",
    "\n",
    "\n"
   ]
  },
  {
   "cell_type": "code",
   "execution_count": 56,
   "metadata": {},
   "outputs": [],
   "source": [
    "import nltk\n",
    "from nltk.sentiment.vader import SentimentIntensityAnalyzer \n"
   ]
  },
  {
   "cell_type": "code",
   "execution_count": 55,
   "metadata": {},
   "outputs": [
    {
     "name": "stdout",
     "output_type": "stream",
     "text": [
      "[nltk_data] Downloading package vader_lexicon to /home/ss/nltk_data...\n"
     ]
    },
    {
     "data": {
      "text/plain": [
       "True"
      ]
     },
     "execution_count": 55,
     "metadata": {},
     "output_type": "execute_result"
    }
   ],
   "source": [
    "nltk.download('vader_lexicon')    "
   ]
  },
  {
   "cell_type": "code",
   "execution_count": 92,
   "metadata": {},
   "outputs": [],
   "source": [
    "sid = SentimentIntensityAnalyzer()\n"
   ]
  },
  {
   "cell_type": "code",
   "execution_count": 99,
   "metadata": {},
   "outputs": [
    {
     "name": "stdout",
     "output_type": "stream",
     "text": [
      "Dhakkan New Jio\n",
      "{'neg': 0.0, 'neu': 1.0, 'pos': 0.0, 'compound': 0.0}\n",
      "0.0     1.0     0.0     0.0\n",
      "Happy Birthday Sumit Bhai...\n",
      "{'neg': 0.0, 'neu': 0.448, 'pos': 0.552, 'compound': 0.5719}\n",
      "0.0     1.448     0.552     0.5719\n",
      "\n",
      "{'neg': 0.0, 'neu': 0.0, 'pos': 0.0, 'compound': 0.0}\n",
      "0.0     1.448     0.552     0.5719\n",
      "\n",
      "{'neg': 0.0, 'neu': 0.0, 'pos': 0.0, 'compound': 0.0}\n",
      "0.0     1.448     0.552     0.5719\n",
      "\n",
      "{'neg': 0.0, 'neu': 0.0, 'pos': 0.0, 'compound': 0.0}\n",
      "0.0     1.448     0.552     0.5719\n",
      "\n",
      "{'neg': 0.0, 'neu': 0.0, 'pos': 0.0, 'compound': 0.0}\n",
      "0.0     1.448     0.552     0.5719\n",
      "\n",
      "{'neg': 0.0, 'neu': 0.0, 'pos': 0.0, 'compound': 0.0}\n",
      "0.0     1.448     0.552     0.5719\n",
      "Thanks buddy\n",
      "{'neg': 0.0, 'neu': 0.256, 'pos': 0.744, 'compound': 0.4404}\n",
      "0.0     1.704     1.296     1.0123\n",
      "Anytime bhaiwa..\n",
      "{'neg': 0.0, 'neu': 1.0, 'pos': 0.0, 'compound': 0.0}\n",
      "0.0     2.7039999999999997     1.296     1.0123\n",
      "\n",
      "{'neg': 0.0, 'neu': 0.0, 'pos': 0.0, 'compound': 0.0}\n",
      "0.0     2.7039999999999997     1.296     1.0123\n",
      "\n",
      "{'neg': 0.0, 'neu': 0.0, 'pos': 0.0, 'compound': 0.0}\n",
      "0.0     2.7039999999999997     1.296     1.0123\n",
      "\n",
      "{'neg': 0.0, 'neu': 0.0, 'pos': 0.0, 'compound': 0.0}\n",
      "0.0     2.7039999999999997     1.296     1.0123\n",
      "I’m inviting you to join Tez, a simple and secure payments app by Google. Here’s my code iP5ML - just enter it before your first transaction. Once you’ve sent your first payment, we’ll each get ₹51! https://g.co/tez/iP5ML\n",
      "{'neg': 0.0, 'neu': 0.816, 'pos': 0.184, 'compound': 0.7345}\n",
      "0.0     3.5199999999999996     1.48     1.7468\n",
      "https://g.co/tez/iP5ML\n",
      "{'neg': 0.0, 'neu': 1.0, 'pos': 0.0, 'compound': 0.0}\n",
      "0.0     4.52     1.48     1.7468\n",
      "Use PhonePe for instant bank transfers & more! Earn up to ₹1000 on your first money transfer on #PhonePe. Use my link - https://phon.pe/ru_sumif39h5\n",
      "{'neg': 0.0, 'neu': 1.0, 'pos': 0.0, 'compound': 0.0}\n",
      "0.0     5.52     1.48     1.7468\n",
      "https://phon.pe/ru_sumif39h5\n",
      "{'neg': 0.0, 'neu': 1.0, 'pos': 0.0, 'compound': 0.0}\n",
      "0.0     6.52     1.48     1.7468\n",
      "https://www.myntra.com/growth/invite/DU8GY6WB?p=mwb&t=1529502968&c=com.whatsapp&l=rd\n",
      "{'neg': 0.0, 'neu': 1.0, 'pos': 0.0, 'compound': 0.0}\n",
      "0.0     7.52     1.48     1.7468\n",
      "https://www.myntra.com/growth/invite/DU8GY6WB?p=mwb&t=1529502968&c=com.whatsapp&l=rd\n",
      "{'neg': 0.0, 'neu': 1.0, 'pos': 0.0, 'compound': 0.0}\n",
      "0.0     8.52     1.48     1.7468\n",
      "Hii\n",
      "{'neg': 0.0, 'neu': 1.0, 'pos': 0.0, 'compound': 0.0}\n",
      "0.0     9.52     1.48     1.7468\n",
      "from selenium import webdriver\n",
      "\n",
      "driver = webdriver.Chrome(r'/usr/bin/chromedriver')\n",
      "driver.get('https://web.whatsapp.com/')\n",
      "\n",
      "name = input('Enter the name of user or group : ')\n",
      "msg = input('Enter your message : ')\n",
      "count = int(input('Enter the count : '))\n",
      "\n",
      "input('Enter anything after scanning QR code')\n",
      "\n",
      "user = driver.find_element_by_xpath('//span[@title = \"{}\"]'.format(name))\n",
      "user.click()\n",
      "\n",
      "msg_box = driver.find_element_by_class_name('_2S1VP')\n",
      "\n",
      "for i in range(count):\n",
      "    msg_box.send_keys(msg)\n",
      "    button = driver.find_element_by_class_name('_2lkdt')\n",
      "button.click()\n",
      "{'neg': 0.0, 'neu': 1.0, 'pos': 0.0, 'compound': 0.0}\n",
      "0.0     10.52     1.48     1.7468\n",
      "https://web.whatsapp.com/'\n",
      "{'neg': 0.0, 'neu': 1.0, 'pos': 0.0, 'compound': 0.0}\n",
      "0.0     11.52     1.48     1.7468\n",
      "user.click\n",
      "{'neg': 0.0, 'neu': 1.0, 'pos': 0.0, 'compound': 0.0}\n",
      "0.0     12.52     1.48     1.7468\n",
      "button.click\n",
      "{'neg': 0.0, 'neu': 1.0, 'pos': 0.0, 'compound': 0.0}\n",
      "0.0     13.52     1.48     1.7468\n",
      "hellohello\n",
      "{'neg': 0.0, 'neu': 1.0, 'pos': 0.0, 'compound': 0.0}\n",
      "0.0     14.52     1.48     1.7468\n",
      "hii\n",
      "{'neg': 0.0, 'neu': 1.0, 'pos': 0.0, 'compound': 0.0}\n",
      "0.0     15.52     1.48     1.7468\n",
      "hello\n",
      "{'neg': 0.0, 'neu': 1.0, 'pos': 0.0, 'compound': 0.0}\n",
      "0.0     16.52     1.48     1.7468\n",
      "hello\n",
      "{'neg': 0.0, 'neu': 1.0, 'pos': 0.0, 'compound': 0.0}\n",
      "0.0     17.52     1.48     1.7468\n",
      "hello\n",
      "{'neg': 0.0, 'neu': 1.0, 'pos': 0.0, 'compound': 0.0}\n",
      "0.0     18.52     1.48     1.7468\n",
      "hello\n",
      "{'neg': 0.0, 'neu': 1.0, 'pos': 0.0, 'compound': 0.0}\n",
      "0.0     19.52     1.48     1.7468\n",
      "https://www.youtube.com/playlist?list=PL3GaGYDOQMpIBD5oDOs-5dWtt7jlgwiMD\n",
      "{'neg': 0.0, 'neu': 1.0, 'pos': 0.0, 'compound': 0.0}\n",
      "0.0     20.52     1.48     1.7468\n",
      "https://www.youtube.com/playlist?list=PL3GaGYDOQMpIBD5oDOs-5dWtt7jlgwiMD\n",
      "{'neg': 0.0, 'neu': 1.0, 'pos': 0.0, 'compound': 0.0}\n",
      "0.0     21.52     1.48     1.7468\n",
      "hello\n",
      "{'neg': 0.0, 'neu': 1.0, 'pos': 0.0, 'compound': 0.0}\n",
      "0.0     22.52     1.48     1.7468\n",
      "Nope\n",
      "{'neg': 0.0, 'neu': 1.0, 'pos': 0.0, 'compound': 0.0}\n",
      "0.0     23.52     1.48     1.7468\n",
      "https://stackoverflow.com/questions/20986631/how-can-i-scroll-a-web-page-using-selenium-webdriver-in-python\n",
      "{'neg': 0.0, 'neu': 1.0, 'pos': 0.0, 'compound': 0.0}\n",
      "0.0     24.52     1.48     1.7468\n",
      "https://stackoverflow.com/questions/20986631/how-can-i-scroll-a-web-page-using-selenium-webdriver-in-python\n",
      "{'neg': 0.0, 'neu': 1.0, 'pos': 0.0, 'compound': 0.0}\n",
      "0.0     25.52     1.48     1.7468\n",
      "https://m.starmakerstudios.com/share?recording_id=5066549546256897&share_type=whatsapp&app=sm\n",
      "{'neg': 0.0, 'neu': 1.0, 'pos': 0.0, 'compound': 0.0}\n",
      "0.0     26.52     1.48     1.7468\n",
      "https://m.starmakerstudios.com/share?recording_id=5066549546256897&share_type=whatsapp&app=sm\n",
      "{'neg': 0.0, 'neu': 1.0, 'pos': 0.0, 'compound': 0.0}\n",
      "0.0     27.52     1.48     1.7468\n",
      "Kta bna h ???\n",
      "{'neg': 0.0, 'neu': 1.0, 'pos': 0.0, 'compound': 0.0}\n",
      "0.0     28.52     1.48     1.7468\n",
      "Pratha aanchar\n",
      "{'neg': 0.0, 'neu': 1.0, 'pos': 0.0, 'compound': 0.0}\n",
      "0.0     29.52     1.48     1.7468\n",
      "Isme editing kr k send krna h\n",
      "{'neg': 0.0, 'neu': 1.0, 'pos': 0.0, 'compound': 0.0}\n",
      "0.0     30.52     1.48     1.7468\n",
      "https://www.youtube.com/playlist?list=PLhpgLgFy42uVqkUa_5P0HZIg0dwbVm96D\n",
      "{'neg': 0.0, 'neu': 1.0, 'pos': 0.0, 'compound': 0.0}\n",
      "0.0     31.52     1.48     1.7468\n",
      "https://www.youtube.com/playlist?list=PLhpgLgFy42uVqkUa_5P0HZIg0dwbVm96D\n",
      "{'neg': 0.0, 'neu': 1.0, 'pos': 0.0, 'compound': 0.0}\n",
      "0.0     32.519999999999996     1.48     1.7468\n",
      "Mje lga tha tu ye bolegi\n",
      "https://drive.google.com/file/d/10Qq0j7qi2tqtIYVwIKw-uT2bhPfPzC2V/view\n",
      "{'neg': 0.0, 'neu': 1.0, 'pos': 0.0, 'compound': 0.0}\n",
      "0.0     33.519999999999996     1.48     1.7468\n",
      "\n",
      "{'neg': 0.0, 'neu': 0.0, 'pos': 0.0, 'compound': 0.0}\n",
      "0.0     33.519999999999996     1.48     1.7468\n",
      "\n",
      "{'neg': 0.0, 'neu': 0.0, 'pos': 0.0, 'compound': 0.0}\n",
      "0.0     33.519999999999996     1.48     1.7468\n",
      "https://drive.google.com/file/d/10Qq0j7qi2tqtIYVwIKw-uT2bhPfPzC2V/view\n",
      "{'neg': 0.0, 'neu': 1.0, 'pos': 0.0, 'compound': 0.0}\n",
      "0.0     34.519999999999996     1.48     1.7468\n",
      "Ye Galat jagah bheja kya be\n",
      "{'neg': 0.0, 'neu': 1.0, 'pos': 0.0, 'compound': 0.0}\n",
      "0.0     35.519999999999996     1.48     1.7468\n"
     ]
    }
   ],
   "source": [
    "neg=0\n",
    "neu=0\n",
    "pos=0\n",
    "compound=0\n",
    "for sentence in data:\n",
    "    print(sentence)\n",
    "    ss = sid.polarity_scores(sentence)\n",
    "    neg = neg+ float(ss['neg'])\n",
    "    neu =  neu +float(ss['neu']) \n",
    "    pos = pos + float(ss['pos'])\n",
    "    compound = compound+float(ss['compound'])\n",
    "    print(ss)\n",
    "    print(neg,\"   \",neu,\"   \",pos,\"   \",compound)\n",
    "    \n",
    "\n",
    "     \n",
    "     "
   ]
  },
  {
   "cell_type": "code",
   "execution_count": 100,
   "metadata": {},
   "outputs": [
    {
     "name": "stdout",
     "output_type": "stream",
     "text": [
      "negative=   0.0\n",
      "neutral=   35.519999999999996\n",
      "positive=   1.48\n",
      "compound=   1.7468\n"
     ]
    }
   ],
   "source": [
    "print(\"negative=  \",neg)\n",
    "print(\"neutral=  \",neu)\n",
    "print(\"positive=  \",pos)\n",
    "print(\"compound=  \",compound)"
   ]
  },
  {
   "cell_type": "code",
   "execution_count": 106,
   "metadata": {},
   "outputs": [
    {
     "ename": "SyntaxError",
     "evalue": "invalid syntax (<ipython-input-106-b87d0d2dd18f>, line 2)",
     "output_type": "error",
     "traceback": [
      "\u001b[0;36m  File \u001b[0;32m\"<ipython-input-106-b87d0d2dd18f>\"\u001b[0;36m, line \u001b[0;32m2\u001b[0m\n\u001b[0;31m    print(total)print((neg/total)*100,\"%\")\u001b[0m\n\u001b[0m                    ^\u001b[0m\n\u001b[0;31mSyntaxError\u001b[0m\u001b[0;31m:\u001b[0m invalid syntax\n"
     ]
    }
   ],
   "source": [
    "total=neg+neu+pos+compound\n",
    "print(total)\n",
    "print((neg/total)*100,\"%\")\n",
    "print((neu/total)*100,\"%\")\n",
    "print((pos/total)*100,\"%\")\n",
    "print((compound/total)*100,\"%\")"
   ]
  },
  {
   "cell_type": "code",
   "execution_count": 105,
   "metadata": {},
   "outputs": [
    {
     "name": "stdout",
     "output_type": "stream",
     "text": [
      "0.0 %\n",
      "91.67208646907616 %\n",
      "3.8196702695448406 %\n",
      "4.508243261379005 %\n"
     ]
    }
   ],
   "source": []
  },
  {
   "cell_type": "code",
   "execution_count": null,
   "metadata": {},
   "outputs": [],
   "source": []
  }
 ],
 "metadata": {
  "kernelspec": {
   "display_name": "Python 3",
   "language": "python",
   "name": "python3"
  },
  "language_info": {
   "codemirror_mode": {
    "name": "ipython",
    "version": 3
   },
   "file_extension": ".py",
   "mimetype": "text/x-python",
   "name": "python",
   "nbconvert_exporter": "python",
   "pygments_lexer": "ipython3",
   "version": "3.6.5"
  }
 },
 "nbformat": 4,
 "nbformat_minor": 2
}
